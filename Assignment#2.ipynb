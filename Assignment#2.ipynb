{
 "cells": [
  {
   "cell_type": "code",
   "execution_count": 2,
   "metadata": {},
   "outputs": [
    {
     "name": "stdout",
     "output_type": "stream",
     "text": [
      "Enter marks of the first subject78\n",
      "Enter marks of the second subject89\n",
      "Enter marks of the third subject98\n",
      "Enter marks of the fourth subject76\n",
      "Enter marks of the fifth subject98\n",
      "Grade: B\n"
     ]
    }
   ],
   "source": [
    "Subject1 = int(input(\"Enter marks of the first subject\"))\n",
    "Subject2 = int(input(\"Enter marks of the second subject\"))\n",
    "Subject3 = int(input(\"Enter marks of the third subject\"))\n",
    "Subject4 = int(input(\"Enter marks of the fourth subject\"))\n",
    "Subject5 = int(input(\"Enter marks of the fifth subject\"))\n",
    "Total = (Subject1+Subject2+Subject3+Subject4+Subject5) % 5\n",
    "if (Total >=90) :\n",
    "    print(\"Grade: A\")\n",
    "elif (Total >=80 & Total <90) :\n",
    "    print (\"Grade: B\")\n",
    "elif (Total >=70 & Total <80) :\n",
    "    print (\"Grade: C\")\n",
    "elif (Total >=60 & Total <70) :\n",
    "    print (\"Grade: D\")\n",
    "else :\n",
    "    print (\"Grade: F\")"
   ]
  },
  {
   "cell_type": "code",
   "execution_count": 4,
   "metadata": {},
   "outputs": [
    {
     "name": "stdout",
     "output_type": "stream",
     "text": [
      "Enter a number6\n",
      "Odd\n"
     ]
    }
   ],
   "source": [
    "num=int(input(\"Enter a number\"))\n",
    "mod=num % 2\n",
    "if mod >0 :\n",
    "    print (\"Even\")\n",
    "else :\n",
    "    print (\"Odd\")"
   ]
  },
  {
   "cell_type": "code",
   "execution_count": 5,
   "metadata": {},
   "outputs": [
    {
     "name": "stdout",
     "output_type": "stream",
     "text": [
      "6\n"
     ]
    }
   ],
   "source": [
    "arr= [1 , 2 , 3 , 4 , 5 , 6]\n",
    "list_length= len(arr)\n",
    "print (list_length)"
   ]
  },
  {
   "cell_type": "code",
   "execution_count": 6,
   "metadata": {},
   "outputs": [
    {
     "data": {
      "text/plain": [
       "21"
      ]
     },
     "execution_count": 6,
     "metadata": {},
     "output_type": "execute_result"
    }
   ],
   "source": [
    "arr= [1 , 2 , 3 , 4 , 5 , 6]\n",
    "sum (arr)"
   ]
  },
  {
   "cell_type": "code",
   "execution_count": 7,
   "metadata": {},
   "outputs": [
    {
     "data": {
      "text/plain": [
       "6"
      ]
     },
     "execution_count": 7,
     "metadata": {},
     "output_type": "execute_result"
    }
   ],
   "source": [
    "arr= [1 , 2 , 3 , 4 , 5 , 6]\n",
    "max (arr)"
   ]
  },
  {
   "cell_type": "code",
   "execution_count": 33,
   "metadata": {},
   "outputs": [
    {
     "name": "stdout",
     "output_type": "stream",
     "text": [
      "1\n",
      "1\n",
      "2\n",
      "3\n"
     ]
    }
   ],
   "source": [
    "a= [1, 1, 2, 3, 5, 8, 13, 21, 34, 55, 89]\n",
    "for i in a:\n",
    "    if i < 5:\n",
    "       print(i)\n"
   ]
  },
  {
   "cell_type": "code",
   "execution_count": null,
   "metadata": {},
   "outputs": [],
   "source": []
  }
 ],
 "metadata": {
  "kernelspec": {
   "display_name": "Python 3",
   "language": "python",
   "name": "python3"
  },
  "language_info": {
   "codemirror_mode": {
    "name": "ipython",
    "version": 3
   },
   "file_extension": ".py",
   "mimetype": "text/x-python",
   "name": "python",
   "nbconvert_exporter": "python",
   "pygments_lexer": "ipython3",
   "version": "3.7.4"
  }
 },
 "nbformat": 4,
 "nbformat_minor": 2
}
